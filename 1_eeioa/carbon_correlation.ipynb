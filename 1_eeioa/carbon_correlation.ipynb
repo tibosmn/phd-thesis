{
  "cells": [
    {
      "cell_type": "markdown",
      "metadata": {},
      "source": [
        "# Carbon correlation\n",
        "\n",
        "Correlate carbon obtained with EEIO with reference studies.\n",
        "We correlate with two years: 2015 and 2020\n"
      ]
    },
    {
      "cell_type": "code",
      "execution_count": 1,
      "metadata": {},
      "outputs": [
        {
          "name": "stderr",
          "output_type": "stream",
          "text": [
            "/Users/thibaultsimon/Documents/projects/thesis/1_eeioa/venv/lib/python3.9/site-packages/urllib3/__init__.py:35: NotOpenSSLWarning: urllib3 v2 only supports OpenSSL 1.1.1+, currently the 'ssl' module is compiled with 'LibreSSL 2.8.3'. See: https://github.com/urllib3/urllib3/issues/3020\n",
            "  warnings.warn(\n"
          ]
        }
      ],
      "source": [
        "from ict_eeio.mrio import (\n",
        "    get_all_industries,\n",
        "    load_base,\n",
        "    get_demand_categories,\n",
        "    get_industry_output,\n",
        "    get_monetary_flow,\n",
        "    get_factor_input_per_Y_unit,\n",
        "    get_leontief_flow,\n",
        "    aggregate_sectors,\n",
        "    get_total_final_demand,\n",
        ")\n",
        "\n",
        "from ict_eeio.eeio import (\n",
        "    get_direct_impact_coefficient,\n",
        "    get_cba_impact,\n",
        "    get_pba_impact,\n",
        "    get_total_direct_impact,\n",
        "    get_all_satellites_stressors,\n",
        ")\n",
        "from ict_eeio.industries import ict_industries, energy_industries\n",
        "from ict_eeio.satellites import (\n",
        "    impact_stressors_used,\n",
        "    impact_stressors_unused,\n",
        "    satellites,\n",
        "    impacts,\n",
        "    clear_mineral_stressors_name,\n",
        ")\n",
        "from ict_eeio.sankey import plot_sankey\n",
        "import pandas as pd\n",
        "from collections import OrderedDict\n",
        "\n",
        "# libraries\n",
        "import numpy as np\n",
        "import seaborn as sns\n",
        "import pandas as pd\n",
        "import matplotlib.pyplot as plt\n",
        "\n",
        "from ict_eeio.satellites import (\n",
        "    mineral_stressors,\n",
        "    mineral_stressors_used,\n",
        "    mineral_stressors_unused,\n",
        ")\n",
        "from ict_eeio.utils import kg_to_Gt\n",
        "from ict_eeio.mrio import simplify_sections\n",
        "from ict_eeio.eeio import COE2_NAME\n",
        "from ict_eeio.utils import kg_to_Mt\n",
        "\n",
        "# Set seaborn theme for matplotlib\n",
        "sns.set_theme()"
      ]
    },
    {
      "cell_type": "code",
      "execution_count": 2,
      "metadata": {},
      "outputs": [],
      "source": [
        "exio_ict_agg_2015 = load_base(str(\"2015\"))\n",
        "aggregate_sectors(exio_ict_agg_2015, industries=ict_industries, aggregation_name=\"ICT\")\n",
        "exio_ict_agg_2020 = load_base(str(\"2020\"))\n",
        "aggregate_sectors(exio_ict_agg_2020, industries=ict_industries, aggregation_name=\"ICT\")\n",
        "\n",
        "exio_ict_2015 = load_base(str(\"2015\"))\n",
        "exio_ict_2020 = load_base(str(\"2020\"))"
      ]
    },
    {
      "cell_type": "code",
      "execution_count": 3,
      "metadata": {},
      "outputs": [
        {
          "name": "stdout",
          "output_type": "stream",
          "text": [
            "1249.8135100782988\n"
          ]
        },
        {
          "data": {
            "image/png": "[encoded data removed]",
            "text/plain": [
              "<Figure size 800x600 with 1 Axes>"
            ]
          },
          "metadata": {},
          "output_type": "display_data"
        }
      ],
      "source": [
        "from ict_eeio.eeio import compute_udd_impact\n",
        "import pandas as pd\n",
        "import seaborn as sns\n",
        "import matplotlib.pyplot as plt\n",
        "\n",
        "# Data for the years 2015 and 2020\n",
        "test = {\n",
        "    \"2015\": [\n",
        "        [\"Malmodin\", 1153],\n",
        "        [\"Belkhir\", 775],\n",
        "        [\"Belkhir\", 971],\n",
        "        [\"Andrae\", 971],\n",
        "        [\"Andrae\", 1515],\n",
        "        [\"Andrae\", 2257],\n",
        "        [\"Exiobase\", kg_to_Mt(compute_udd_impact(exio_ict_agg_2015, \"ICT\")[0])],\n",
        "        [\"Exiobase\", kg_to_Mt(get_cba_impact(exio_ict_agg_2015, \"ICT\"))],\n",
        "        # [\"Exiobase\", kg_to_Mt(get_pba_impact(exio_ict_agg_2015, \"ICT\"))],\n",
        "    ],\n",
        "    \"2020\": [\n",
        "        [\"Malmodin\", 1090],\n",
        "        [\"Belkhir\", 1107],\n",
        "        [\"Belkhir\", 1306],\n",
        "        [\"Andrae\", 887],\n",
        "        [\"Andrae\", 1860],\n",
        "        [\"Andrae\", 3634],\n",
        "        [\"Exiobase\", kg_to_Mt(compute_udd_impact(exio_ict_agg_2020, \"ICT\")[0])],\n",
        "        [\"Exiobase\", kg_to_Mt(get_cba_impact(exio_ict_agg_2020, \"ICT\"))],\n",
        "        # [\"Exiobase\", kg_to_Mt(get_pba_impact(exio_ict_agg_2020, \"ICT\"))],\n",
        "    ],\n",
        "}\n",
        "\n",
        "# Create DataFrames for each year\n",
        "df_2015 = pd.DataFrame(test[\"2015\"], columns=[\"Study\", \"MtCO2e\"])\n",
        "df_2015[\"Year\"] = \"2015\"\n",
        "\n",
        "df_2020 = pd.DataFrame(test[\"2020\"], columns=[\"Study\", \"MtCO2e\"])\n",
        "df_2020[\"Year\"] = \"2020\"\n",
        "\n",
        "# Combine the DataFrames\n",
        "combined_df = pd.concat([df_2015, df_2020])\n",
        "\n",
        "# Plotting\n",
        "sns.set_theme(style=\"whitegrid\")\n",
        "plt.figure(figsize=(8, 6))\n",
        "ax = sns.barplot(x=\"Study\", y=\"MtCO2e\", hue=\"Year\", data=combined_df)\n",
        "plt.ylabel(r\"$MtCO_{2}e$\")\n",
        "# plt.title(\"CO2 Emissions by Study for 2015 and 2020\")\n",
        "plt.gcf().savefig(\"figures/carbon_correlation.pdf\", bbox_inches=\"tight\")\n",
        "print((kg_to_Mt(get_cba_impact(exio_ict_agg_2020, \"ICT\"))))"
      ]
    },
    {
      "cell_type": "code",
      "execution_count": 4,
      "metadata": {},
      "outputs": [
        {
          "name": "stdout",
          "output_type": "stream",
          "text": [
            "1252.0866223045975\n",
            "152.26749414914374\n",
            "1249.8135100782988\n",
            "188.6970925012652\n"
          ]
        }
      ],
      "source": [
        "print(kg_to_Mt(get_cba_impact(exio_ict_agg_2015, \"ICT\")))\n",
        "print(kg_to_Mt(get_pba_impact(exio_ict_agg_2015, \"ICT\")))\n",
        "print(kg_to_Mt(get_cba_impact(exio_ict_agg_2020, \"ICT\")))\n",
        "print(kg_to_Mt(get_pba_impact(exio_ict_agg_2020, \"ICT\")))"
      ]
    },
    {
      "cell_type": "markdown",
      "metadata": {},
      "source": [
        "## Comparaison des catégories d'impact\n",
        "\n",
        "On regarde l'incidence du choix d'une autre catégorie d'impact pour les GHG\n"
      ]
    },
    {
      "cell_type": "code",
      "execution_count": 5,
      "metadata": {},
      "outputs": [
        {
          "name": "stdout",
          "output_type": "stream",
          "text": [
            "1252.0866223045975 : GHG emissions (GWP100) | Problem oriented approach: baseline (CML, 2001) | GWP100 (IPCC, 2007)\n",
            "1252.1362244634895 : GHG emissions (GWP100) | Problem oriented approach: baseline (CML, 1999) | GWP100 (IPCC, 2007)\n",
            "1261.7201442279556 : GHG emissions (GWP100min) | Problem oriented approach: non baseline (CML, 1999) | net GWP100 min(Houghton et al., 2001)\n",
            "1278.5312849808006 : GHG emissions (GWP100max) | Problem oriented approach: non baseline (CML, 1999) | net GWP100 max(Houghton et al., 2001)\n",
            "1558.797988044811 : GHG emissions (GWP20) | Problem oriented approach: non baseline (CML, 1999) | GWP20 (IPCC, 2007)\n",
            "1127.1181551265122 : GHG emissions (GWP500) | Problem oriented approach: non baseline (CML, 1999) | GWP500 (IPCC, 2007)\n",
            "1269.1112603488975 : GHG emissions AR5 (GWP100) | GWP100 (IPCC, 2010)\n"
          ]
        }
      ],
      "source": [
        "for category in exio_ict_2015.impacts.get_index():\n",
        "    if \"GHG\" in str(category):\n",
        "        print(\n",
        "            str(\n",
        "                kg_to_Mt(\n",
        "                    get_cba_impact(exio_ict_agg_2015, \"ICT\", impact_category=category)\n",
        "                )\n",
        "            )\n",
        "            + \" : \"\n",
        "            + category\n",
        "        )\n",
        "        # print(category)"
      ]
    },
    {
      "cell_type": "code",
      "execution_count": 6,
      "metadata": {},
      "outputs": [
        {
          "data": {
            "text/plain": [
              "126"
            ]
          },
          "execution_count": 6,
          "metadata": {},
          "output_type": "execute_result"
        }
      ],
      "source": [
        "len(exio_ict_2015.impacts.get_index())"
      ]
    }
  ],
  "metadata": {
    "kernelspec": {
      "display_name": "venv",
      "language": "python",
      "name": "python3"
    },
    "language_info": {
      "codemirror_mode": {
        "name": "ipython",
        "version": 3
      },
      "file_extension": ".py",
      "mimetype": "text/x-python",
      "name": "python",
      "nbconvert_exporter": "python",
      "pygments_lexer": "ipython3",
      "version": "3.9.6"
    }
  },
  "nbformat": 4,
  "nbformat_minor": 2
}
