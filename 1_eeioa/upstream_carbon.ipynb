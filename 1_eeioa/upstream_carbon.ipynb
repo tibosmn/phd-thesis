{
  "cells": [
    {
      "cell_type": "code",
      "execution_count": 1,
      "metadata": {},
      "outputs": [
        {
          "name": "stderr",
          "output_type": "stream",
          "text": [
            "/Users/thibaultsimon/Documents/projects/thesis/1_eeioa/venv/lib/python3.9/site-packages/urllib3/__init__.py:35: NotOpenSSLWarning: urllib3 v2 only supports OpenSSL 1.1.1+, currently the 'ssl' module is compiled with 'LibreSSL 2.8.3'. See: https://github.com/urllib3/urllib3/issues/3020\n",
            "  warnings.warn(\n"
          ]
        }
      ],
      "source": [
        "from ict_eeio.mrio import (\n",
        "    get_all_industries,\n",
        "    load_base,\n",
        "    get_demand_categories,\n",
        "    get_industry_output,\n",
        "    get_monetary_flow,\n",
        "    get_factor_input_per_Y_unit,\n",
        "    get_leontief_flow,\n",
        "    aggregate_sectors,\n",
        "    get_total_final_demand,\n",
        ")\n",
        "\n",
        "from ict_eeio.eeio import (\n",
        "    get_direct_impact_coefficient,\n",
        "    get_cba_impact,\n",
        "    get_pba_impact,\n",
        "    get_total_direct_impact,\n",
        "    get_all_satellites_stressors,\n",
        ")\n",
        "from ict_eeio.industries import ict_industries, energy_industries\n",
        "from ict_eeio.satellites import (\n",
        "    impact_stressors_used,\n",
        "    impact_stressors_unused,\n",
        "    satellites,\n",
        "    impacts,\n",
        "    clear_mineral_stressors_name,\n",
        ")\n",
        "from ict_eeio.sankey import plot_sankey\n",
        "import pandas as pd\n",
        "from collections import OrderedDict\n",
        "\n",
        "# libraries\n",
        "import numpy as np\n",
        "import seaborn as sns\n",
        "import pandas as pd\n",
        "import matplotlib.pyplot as plt\n",
        "\n",
        "from ict_eeio.satellites import (\n",
        "    mineral_stressors,\n",
        "    mineral_stressors_used,\n",
        "    mineral_stressors_unused,\n",
        ")\n",
        "from ict_eeio.utils import kg_to_Gt\n",
        "from ict_eeio.mrio import simplify_sections\n",
        "from ict_eeio.eeio import COE2_NAME\n",
        "from ict_eeio.utils import kg_to_Mt\n",
        "\n",
        "# Set seaborn theme for matplotlib\n",
        "sns.set_theme()"
      ]
    },
    {
      "cell_type": "code",
      "execution_count": 2,
      "metadata": {},
      "outputs": [],
      "source": [
        "year = 2020\n",
        "\n",
        "exio_normal = load_base(year=str(year), classification=\"ixi\")\n",
        "\n",
        "exio_simplified = load_base(year=str(year), classification=\"ixi\")\n",
        "simplify_sections(exio_simplified)\n",
        "\n",
        "# exio_agg = load_base(year=str(year), classification=\"ixi\")\n",
        "# aggregate_sectors(exio_agg, ict_industries, \"ICT\")"
      ]
    },
    {
      "cell_type": "code",
      "execution_count": 3,
      "metadata": {},
      "outputs": [
        {
          "name": "stdout",
          "output_type": "stream",
          "text": [
            "---Computer and related activities (72)---\n",
            "Upstream: 303513792106.9861\n",
            "Direct: 16488184072.751402\n",
            "CBA: 320001976179.7375\n",
            "CBA: 320001976179.7375 expected\n",
            "Diff due to not double counting\n",
            "\n",
            "---Manufacture of office machinery and computers (30)---\n",
            "Upstream: 200806770849.6317\n",
            "Direct: 8143413511.843322\n",
            "CBA: 208950184361.47504\n",
            "CBA: 208950184361.47507 expected\n",
            "Diff due to not double counting\n",
            "\n",
            "---Manufacture of radio, television and communication equipment and apparatus (32)---\n",
            "Upstream: 402656081744.5714\n",
            "Direct: 42301377571.13606\n",
            "CBA: 444957459315.70746\n",
            "CBA: 444957459315.7075 expected\n",
            "Diff due to not double counting\n",
            "\n",
            "---Post and telecommunications (64)---\n",
            "Upstream: 217506100336.79962\n",
            "Direct: 37232633935.748634\n",
            "CBA: 254738734272.54825\n",
            "CBA: 254738734272.54828 expected\n",
            "Diff due to not double counting\n",
            "\n",
            "---Total---\n",
            "Upstream: 1.1244827450379888\n",
            "Filling colors\n",
            "{29: 104165609091.47943, 15: 640003952359.475, 31: 1228648354129.4683, 0: 116537028366.5463, 28: 2248965490075.9785, 1: 407638987.5457492, 2: 131696231997.47197, 3: 286544485545.20636, 32: 10413502385.824596, 6: 47251080983.69657, 7: 413286889046.7273, 8: 1620073365.8387399, 9: 9809700753.156761, 10: 2073688982.1632419, 11: 88153447084.62776, 13: 5830429472.514256, 14: 10141733411.699644, 16: 356573443.5489756, 17: 184909055.13539997, 18: 152936956.39884746, 19: 22395199.886427853, 20: 0.0, 4: 417900368722.9501, 5: 889914918631.4149, 12: 509477468545.0965}\n",
            "Filling colors\n",
            "{29: 104165609091.47943, 15: 640003952359.475, 31: 1228648354129.4683, 0: 116537028366.5463, 28: 2248965490075.9785, 1: 407638987.5457492, 2: 131696231997.47197, 3: 286544485545.20636, 32: 10413502385.824596, 6: 47251080983.69657, 7: 413286889046.7273, 8: 1620073365.8387399, 9: 9809700753.156761, 10: 2073688982.1632419, 11: 88153447084.62776, 13: 5830429472.514256, 14: 10141733411.699644, 16: 356573443.5489756, 17: 184909055.13539997, 18: 152936956.39884746, 19: 22395199.886427853, 20: 0.0, 4: 417900368722.9501, 5: 889914918631.4149, 12: 509477468545.0965}\n"
          ]
        },
        {
          "data": {
            "application/vnd.plotly.v1+json": {
              "config": {
                "plotlyServerURL": "https://plot.ly"
              },
              "data": [
                {
                  "link": {
                    "color": [
                      "lightgrey",
                      "lightgrey",
                      "lightgrey",
                      "lightgrey",
                      "lightgrey",
                      "lightgrey",
                      "lightgrey",
                      "lightgrey",
                      "lightgrey",
                      "lightgrey",
                      "lightgrey",
                      "lightgrey",
                      "lightgrey",
                      "lightgrey",
                      "lightgrey",
                      "lightgrey",
                      "lightgrey",
                      "lightgrey"
                    ],
                    "source": [
                      29,
                      15,
                      0,
                      33,
                      2,
                      3,
                      7,
                      11,
                      28,
                      29,
                      4,
                      28,
                      29,
                      5,
                      28,
                      29,
                      12,
                      28
                    ],
                    "target": [
                      15,
                      31,
                      28,
                      28,
                      28,
                      28,
                      28,
                      28,
                      15,
                      4,
                      31,
                      4,
                      5,
                      31,
                      5,
                      12,
                      31,
                      12
                    ],
                    "value": [
                      16488184072.751402,
                      320001976179.7375,
                      116537028366.5463,
                      88264662997.40923,
                      131696231997.47197,
                      286544485545.20636,
                      413286889046.7273,
                      88153447084.62776,
                      303513792106.9861,
                      8143413511.843322,
                      208950184361.47504,
                      200806770849.6317,
                      42301377571.13606,
                      444957459315.70746,
                      402656081744.5714,
                      37232633935.748634,
                      254738734272.54825,
                      217506100336.79962
                    ]
                  },
                  "node": {
                    "label": [
                      "A - Agriculture, hunting and forestry",
                      "B - Fishing",
                      "C - Mining and quarrying",
                      "D - Manufacturing",
                      "Manufacture of office machinery and computers (30)",
                      "Manufacture of radio, television and communication equipment and apparatus (32)",
                      "O - Other community, social and personal service activities",
                      "E - Electricity, gas and water supply",
                      "F - Construction",
                      "G - Wholesale and retail trade; repair of motor vehicles, motorcycles and personal and household goods",
                      "H - Hotels and restaurants",
                      "I - Transport, storage and communications",
                      "Post and telecommunications (64)",
                      "J - Financial intermediation",
                      "K - Real estate, renting and business activities",
                      "Computer and related activities (72)",
                      "L - Public administration and defence; compulsory social security",
                      "M - Education",
                      "N - Health and social work",
                      "P - Activities of private households as employers and undifferentiated production activities of private households",
                      "Q - Extra-territorial organizations and bodies",
                      "Final consumption expenditure by households",
                      "Final consumption expenditure by non-profit organisations serving households (NPISH)",
                      "Final consumption expenditure by government",
                      "Gross fixed capital formation",
                      "Changes in inventories",
                      "Changes in valuables",
                      "Exports: Total (fob)",
                      "Upstream",
                      "Direct",
                      "Downstream",
                      "Total",
                      "Direct up",
                      "Others"
                    ]
                  },
                  "type": "sankey"
                }
              ],
              "layout": {
                "font": {
                  "size": 10
                },
                "height": 400,
                "plot_bgcolor": "rgba(0,0,0,0)",
                "template": {
                  "data": {
                    "bar": [
                      {
                        "error_x": {
                          "color": "#2a3f5f"
                        },
                        "error_y": {
                          "color": "#2a3f5f"
                        },
                        "marker": {
                          "line": {
                            "color": "#E5ECF6",
                            "width": 0.5
                          },
                          "pattern": {
                            "fillmode": "overlay",
                            "size": 10,
                            "solidity": 0.2
                          }
                        },
                        "type": "bar"
                      }
                    ],
                    "barpolar": [
                      {
                        "marker": {
                          "line": {
                            "color": "#E5ECF6",
                            "width": 0.5
                          },
                          "pattern": {
                            "fillmode": "overlay",
                            "size": 10,
                            "solidity": 0.2
                          }
                        },
                        "type": "barpolar"
                      }
                    ],
                    "carpet": [
                      {
                        "aaxis": {
                          "endlinecolor": "#2a3f5f",
                          "gridcolor": "white",
                          "linecolor": "white",
                          "minorgridcolor": "white",
                          "startlinecolor": "#2a3f5f"
                        },
                        "baxis": {
                          "endlinecolor": "#2a3f5f",
                          "gridcolor": "white",
                          "linecolor": "white",
                          "minorgridcolor": "white",
                          "startlinecolor": "#2a3f5f"
                        },
                        "type": "carpet"
                      }
                    ],
                    "choropleth": [
                      {
                        "colorbar": {
                          "outlinewidth": 0,
                          "ticks": ""
                        },
                        "type": "choropleth"
                      }
                    ],
                    "contour": [
                      {
                        "colorbar": {
                          "outlinewidth": 0,
                          "ticks": ""
                        },
                        "colorscale": [
                          [
                            0,
                            "#0d0887"
                          ],
                          [
                            0.1111111111111111,
                            "#46039f"
                          ],
                          [
                            0.2222222222222222,
                            "#7201a8"
                          ],
                          [
                            0.3333333333333333,
                            "#9c179e"
                          ],
                          [
                            0.4444444444444444,
                            "#bd3786"
                          ],
                          [
                            0.5555555555555556,
                            "#d8576b"
                          ],
                          [
                            0.6666666666666666,
                            "#ed7953"
                          ],
                          [
                            0.7777777777777778,
                            "#fb9f3a"
                          ],
                          [
                            0.8888888888888888,
                            "#fdca26"
                          ],
                          [
                            1,
                            "#f0f921"
                          ]
                        ],
                        "type": "contour"
                      }
                    ],
                    "contourcarpet": [
                      {
                        "colorbar": {
                          "outlinewidth": 0,
                          "ticks": ""
                        },
                        "type": "contourcarpet"
                      }
                    ],
                    "heatmap": [
                      {
                        "colorbar": {
                          "outlinewidth": 0,
                          "ticks": ""
                        },
                        "colorscale": [
                          [
                            0,
                            "#0d0887"
                          ],
                          [
                            0.1111111111111111,
                            "#46039f"
                          ],
                          [
                            0.2222222222222222,
                            "#7201a8"
                          ],
                          [
                            0.3333333333333333,
                            "#9c179e"
                          ],
                          [
                            0.4444444444444444,
                            "#bd3786"
                          ],
                          [
                            0.5555555555555556,
                            "#d8576b"
                          ],
                          [
                            0.6666666666666666,
                            "#ed7953"
                          ],
                          [
                            0.7777777777777778,
                            "#fb9f3a"
                          ],
                          [
                            0.8888888888888888,
                            "#fdca26"
                          ],
                          [
                            1,
                            "#f0f921"
                          ]
                        ],
                        "type": "heatmap"
                      }
                    ],
                    "heatmapgl": [
                      {
                        "colorbar": {
                          "outlinewidth": 0,
                          "ticks": ""
                        },
                        "colorscale": [
                          [
                            0,
                            "#0d0887"
                          ],
                          [
                            0.1111111111111111,
                            "#46039f"
                          ],
                          [
                            0.2222222222222222,
                            "#7201a8"
                          ],
                          [
                            0.3333333333333333,
                            "#9c179e"
                          ],
                          [
                            0.4444444444444444,
                            "#bd3786"
                          ],
                          [
                            0.5555555555555556,
                            "#d8576b"
                          ],
                          [
                            0.6666666666666666,
                            "#ed7953"
                          ],
                          [
                            0.7777777777777778,
                            "#fb9f3a"
                          ],
                          [
                            0.8888888888888888,
                            "#fdca26"
                          ],
                          [
                            1,
                            "#f0f921"
                          ]
                        ],
                        "type": "heatmapgl"
                      }
                    ],
                    "histogram": [
                      {
                        "marker": {
                          "pattern": {
                            "fillmode": "overlay",
                            "size": 10,
                            "solidity": 0.2
                          }
                        },
                        "type": "histogram"
                      }
                    ],
                    "histogram2d": [
                      {
                        "colorbar": {
                          "outlinewidth": 0,
                          "ticks": ""
                        },
                        "colorscale": [
                          [
                            0,
                            "#0d0887"
                          ],
                          [
                            0.1111111111111111,
                            "#46039f"
                          ],
                          [
                            0.2222222222222222,
                            "#7201a8"
                          ],
                          [
                            0.3333333333333333,
                            "#9c179e"
                          ],
                          [
                            0.4444444444444444,
                            "#bd3786"
                          ],
                          [
                            0.5555555555555556,
                            "#d8576b"
                          ],
                          [
                            0.6666666666666666,
                            "#ed7953"
                          ],
                          [
                            0.7777777777777778,
                            "#fb9f3a"
                          ],
                          [
                            0.8888888888888888,
                            "#fdca26"
                          ],
                          [
                            1,
                            "#f0f921"
                          ]
                        ],
                        "type": "histogram2d"
                      }
                    ],
                    "histogram2dcontour": [
                      {
                        "colorbar": {
                          "outlinewidth": 0,
                          "ticks": ""
                        },
                        "colorscale": [
                          [
                            0,
                            "#0d0887"
                          ],
                          [
                            0.1111111111111111,
                            "#46039f"
                          ],
                          [
                            0.2222222222222222,
                            "#7201a8"
                          ],
                          [
                            0.3333333333333333,
                            "#9c179e"
                          ],
                          [
                            0.4444444444444444,
                            "#bd3786"
                          ],
                          [
                            0.5555555555555556,
                            "#d8576b"
                          ],
                          [
                            0.6666666666666666,
                            "#ed7953"
                          ],
                          [
                            0.7777777777777778,
                            "#fb9f3a"
                          ],
                          [
                            0.8888888888888888,
                            "#fdca26"
                          ],
                          [
                            1,
                            "#f0f921"
                          ]
                        ],
                        "type": "histogram2dcontour"
                      }
                    ],
                    "mesh3d": [
                      {
                        "colorbar": {
                          "outlinewidth": 0,
                          "ticks": ""
                        },
                        "type": "mesh3d"
                      }
                    ],
                    "parcoords": [
                      {
                        "line": {
                          "colorbar": {
                            "outlinewidth": 0,
                            "ticks": ""
                          }
                        },
                        "type": "parcoords"
                      }
                    ],
                    "pie": [
                      {
                        "automargin": true,
                        "type": "pie"
                      }
                    ],
                    "scatter": [
                      {
                        "fillpattern": {
                          "fillmode": "overlay",
                          "size": 10,
                          "solidity": 0.2
                        },
                        "type": "scatter"
                      }
                    ],
                    "scatter3d": [
                      {
                        "line": {
                          "colorbar": {
                            "outlinewidth": 0,
                            "ticks": ""
                          }
                        },
                        "marker": {
                          "colorbar": {
                            "outlinewidth": 0,
                            "ticks": ""
                          }
                        },
                        "type": "scatter3d"
                      }
                    ],
                    "scattercarpet": [
                      {
                        "marker": {
                          "colorbar": {
                            "outlinewidth": 0,
                            "ticks": ""
                          }
                        },
                        "type": "scattercarpet"
                      }
                    ],
                    "scattergeo": [
                      {
                        "marker": {
                          "colorbar": {
                            "outlinewidth": 0,
                            "ticks": ""
                          }
                        },
                        "type": "scattergeo"
                      }
                    ],
                    "scattergl": [
                      {
                        "marker": {
                          "colorbar": {
                            "outlinewidth": 0,
                            "ticks": ""
                          }
                        },
                        "type": "scattergl"
                      }
                    ],
                    "scattermapbox": [
                      {
                        "marker": {
                          "colorbar": {
                            "outlinewidth": 0,
                            "ticks": ""
                          }
                        },
                        "type": "scattermapbox"
                      }
                    ],
                    "scatterpolar": [
                      {
                        "marker": {
                          "colorbar": {
                            "outlinewidth": 0,
                            "ticks": ""
                          }
                        },
                        "type": "scatterpolar"
                      }
                    ],
                    "scatterpolargl": [
                      {
                        "marker": {
                          "colorbar": {
                            "outlinewidth": 0,
                            "ticks": ""
                          }
                        },
                        "type": "scatterpolargl"
                      }
                    ],
                    "scatterternary": [
                      {
                        "marker": {
                          "colorbar": {
                            "outlinewidth": 0,
                            "ticks": ""
                          }
                        },
                        "type": "scatterternary"
                      }
                    ],
                    "surface": [
                      {
                        "colorbar": {
                          "outlinewidth": 0,
                          "ticks": ""
                        },
                        "colorscale": [
                          [
                            0,
                            "#0d0887"
                          ],
                          [
                            0.1111111111111111,
                            "#46039f"
                          ],
                          [
                            0.2222222222222222,
                            "#7201a8"
                          ],
                          [
                            0.3333333333333333,
                            "#9c179e"
                          ],
                          [
                            0.4444444444444444,
                            "#bd3786"
                          ],
                          [
                            0.5555555555555556,
                            "#d8576b"
                          ],
                          [
                            0.6666666666666666,
                            "#ed7953"
                          ],
                          [
                            0.7777777777777778,
                            "#fb9f3a"
                          ],
                          [
                            0.8888888888888888,
                            "#fdca26"
                          ],
                          [
                            1,
                            "#f0f921"
                          ]
                        ],
                        "type": "surface"
                      }
                    ],
                    "table": [
                      {
                        "cells": {
                          "fill": {
                            "color": "#EBF0F8"
                          },
                          "line": {
                            "color": "white"
                          }
                        },
                        "header": {
                          "fill": {
                            "color": "#C8D4E3"
                          },
                          "line": {
                            "color": "white"
                          }
                        },
                        "type": "table"
                      }
                    ]
                  },
                  "layout": {
                    "annotationdefaults": {
                      "arrowcolor": "#2a3f5f",
                      "arrowhead": 0,
                      "arrowwidth": 1
                    },
                    "autotypenumbers": "strict",
                    "coloraxis": {
                      "colorbar": {
                        "outlinewidth": 0,
                        "ticks": ""
                      }
                    },
                    "colorscale": {
                      "diverging": [
                        [
                          0,
                          "#8e0152"
                        ],
                        [
                          0.1,
                          "#c51b7d"
                        ],
                        [
                          0.2,
                          "#de77ae"
                        ],
                        [
                          0.3,
                          "#f1b6da"
                        ],
                        [
                          0.4,
                          "#fde0ef"
                        ],
                        [
                          0.5,
                          "#f7f7f7"
                        ],
                        [
                          0.6,
                          "#e6f5d0"
                        ],
                        [
                          0.7,
                          "#b8e186"
                        ],
                        [
                          0.8,
                          "#7fbc41"
                        ],
                        [
                          0.9,
                          "#4d9221"
                        ],
                        [
                          1,
                          "#276419"
                        ]
                      ],
                      "sequential": [
                        [
                          0,
                          "#0d0887"
                        ],
                        [
                          0.1111111111111111,
                          "#46039f"
                        ],
                        [
                          0.2222222222222222,
                          "#7201a8"
                        ],
                        [
                          0.3333333333333333,
                          "#9c179e"
                        ],
                        [
                          0.4444444444444444,
                          "#bd3786"
                        ],
                        [
                          0.5555555555555556,
                          "#d8576b"
                        ],
                        [
                          0.6666666666666666,
                          "#ed7953"
                        ],
                        [
                          0.7777777777777778,
                          "#fb9f3a"
                        ],
                        [
                          0.8888888888888888,
                          "#fdca26"
                        ],
                        [
                          1,
                          "#f0f921"
                        ]
                      ],
                      "sequentialminus": [
                        [
                          0,
                          "#0d0887"
                        ],
                        [
                          0.1111111111111111,
                          "#46039f"
                        ],
                        [
                          0.2222222222222222,
                          "#7201a8"
                        ],
                        [
                          0.3333333333333333,
                          "#9c179e"
                        ],
                        [
                          0.4444444444444444,
                          "#bd3786"
                        ],
                        [
                          0.5555555555555556,
                          "#d8576b"
                        ],
                        [
                          0.6666666666666666,
                          "#ed7953"
                        ],
                        [
                          0.7777777777777778,
                          "#fb9f3a"
                        ],
                        [
                          0.8888888888888888,
                          "#fdca26"
                        ],
                        [
                          1,
                          "#f0f921"
                        ]
                      ]
                    },
                    "colorway": [
                      "#636efa",
                      "#EF553B",
                      "#00cc96",
                      "#ab63fa",
                      "#FFA15A",
                      "#19d3f3",
                      "#FF6692",
                      "#B6E880",
                      "#FF97FF",
                      "#FECB52"
                    ],
                    "font": {
                      "color": "#2a3f5f"
                    },
                    "geo": {
                      "bgcolor": "white",
                      "lakecolor": "white",
                      "landcolor": "#E5ECF6",
                      "showlakes": true,
                      "showland": true,
                      "subunitcolor": "white"
                    },
                    "hoverlabel": {
                      "align": "left"
                    },
                    "hovermode": "closest",
                    "mapbox": {
                      "style": "light"
                    },
                    "paper_bgcolor": "white",
                    "plot_bgcolor": "#E5ECF6",
                    "polar": {
                      "angularaxis": {
                        "gridcolor": "white",
                        "linecolor": "white",
                        "ticks": ""
                      },
                      "bgcolor": "#E5ECF6",
                      "radialaxis": {
                        "gridcolor": "white",
                        "linecolor": "white",
                        "ticks": ""
                      }
                    },
                    "scene": {
                      "xaxis": {
                        "backgroundcolor": "#E5ECF6",
                        "gridcolor": "white",
                        "gridwidth": 2,
                        "linecolor": "white",
                        "showbackground": true,
                        "ticks": "",
                        "zerolinecolor": "white"
                      },
                      "yaxis": {
                        "backgroundcolor": "#E5ECF6",
                        "gridcolor": "white",
                        "gridwidth": 2,
                        "linecolor": "white",
                        "showbackground": true,
                        "ticks": "",
                        "zerolinecolor": "white"
                      },
                      "zaxis": {
                        "backgroundcolor": "#E5ECF6",
                        "gridcolor": "white",
                        "gridwidth": 2,
                        "linecolor": "white",
                        "showbackground": true,
                        "ticks": "",
                        "zerolinecolor": "white"
                      }
                    },
                    "shapedefaults": {
                      "line": {
                        "color": "#2a3f5f"
                      }
                    },
                    "ternary": {
                      "aaxis": {
                        "gridcolor": "white",
                        "linecolor": "white",
                        "ticks": ""
                      },
                      "baxis": {
                        "gridcolor": "white",
                        "linecolor": "white",
                        "ticks": ""
                      },
                      "bgcolor": "#E5ECF6",
                      "caxis": {
                        "gridcolor": "white",
                        "linecolor": "white",
                        "ticks": ""
                      }
                    },
                    "title": {
                      "x": 0.05
                    },
                    "xaxis": {
                      "automargin": true,
                      "gridcolor": "white",
                      "linecolor": "white",
                      "ticks": "",
                      "title": {
                        "standoff": 15
                      },
                      "zerolinecolor": "white",
                      "zerolinewidth": 2
                    },
                    "yaxis": {
                      "automargin": true,
                      "gridcolor": "white",
                      "linecolor": "white",
                      "ticks": "",
                      "title": {
                        "standoff": 15
                      },
                      "zerolinecolor": "white",
                      "zerolinewidth": 2
                    }
                  }
                },
                "title": {
                  "text": ""
                },
                "width": 800,
                "xaxis": {
                  "showgrid": false,
                  "visible": false,
                  "zeroline": false
                },
                "yaxis": {
                  "showgrid": false,
                  "visible": false,
                  "zeroline": false
                }
              }
            }
          },
          "metadata": {},
          "output_type": "display_data"
        },
        {
          "name": "stdout",
          "output_type": "stream",
          "text": [
            "---Computer and related activities (72)---\n",
            "Upstream: 302015113787.28436\n",
            "Direct: 16508150040.680891\n",
            "CBA: 318523263827.9653\n",
            "CBA: 318523263827.96515 expected\n",
            "Diff due to not double counting\n",
            "\n",
            "---Manufacture of office machinery and computers (30)---\n",
            "Upstream: 221937635416.69507\n",
            "Direct: 8148147457.9809675\n",
            "CBA: 230085782874.67603\n",
            "CBA: 230085782874.67593 expected\n",
            "Diff due to not double counting\n",
            "\n",
            "---Manufacture of radio, television and communication equipment and apparatus (32)---\n",
            "Upstream: 429113697652.9008\n",
            "Direct: 42390898553.52815\n",
            "CBA: 471504596206.42896\n",
            "CBA: 471504596206.4289 expected\n",
            "Diff due to not double counting\n",
            "\n",
            "---Post and telecommunications (64)---\n",
            "Upstream: 240879548675.1554\n",
            "Direct: 37265899222.52882\n",
            "CBA: 278145447897.6842\n",
            "CBA: 278145447897.6842 expected\n",
            "Diff due to not double counting\n",
            "\n",
            "---Total---\n",
            "Upstream: 1.1939459955320357\n",
            "Filling colors\n",
            "{171: 104313095274.71883, 132: 637046527655.9304, 173: 1298259090806.7544, 0: 10113702136.307693, 170: 2387891991064.074, 1: 2826425283.199013, 2: 2365522319.1469364, 3: 1771491121.284762, 4: 2760007994.3162045, 5: 794415411.6034322, 6: 1022288872.0383735, 7: 859714062.327035, 8: 17504698767.79251, 9: 2015916835.545028, 10: 1199962848.6600635, 11: 4158991660.0535455, 12: 70923638.27424467, 13: 10765347686.453676, 14: 774665465.1371515, 15: 0.0, 16: 0.0, 17: 1233060016.1236658, 18: 202416982.63654038, 19: 57061994013.23003, 20: 42966459308.44888, 21: 17115736360.103397, 22: 1131064095.614068, 23: 666506514.4554163, 24: 2098464754.7907295, 25: 3659867309.0935254, 26: 2548786526.9053583, 27: 1264739629.476787, 28: 3402451266.771078, 29: 1449788821.2205167, 30: 3438770836.842011, 31: 1699549720.5288918, 32: 4179218899.664491, 33: 737736196.4060502, 34: 93823390.39727044, 35: 72919796.93766004, 36: 42370223.67926438, 37: 183220744.67280298, 38: 252897372.69844478, 39: 346866868.33151877, 40: 287356291.04881704, 41: 63343221.04319716, 42: 414652454.4044465, 43: 250761396.30852598, 44: 364277077.5853405, 45: 588810561.0186849, 46: 2551780156.4565134, 47: 1464785892.802679, 48: 389970510.88999605, 49: 2846079079.8620605, 50: 79389450.16769335, 51: 1486077876.9562135, 52: 484793763.23774844, 53: 6542374040.531935, 54: 2423600345.5663047, 55: 7886469719.875551, 56: 21340800879.165916, 57: 155726889.3962046, 58: 4078420655.3514333, 59: 363324625.3384882, 60: 261650381.43079603, 61: 910811808.794063, 62: 46494349461.2679, 63: 6829636381.849828, 64: 4896712598.3865795, 65: 191225405.7333083, 66: 3247421296.5623827, 67: 716794345.808855, 68: 31995291661.997192, 69: 403588378.07666445, 70: 10870743171.47508, 71: 68256439775.68372, 72: 1660871937.815517, 73: 1712658264.6179588, 74: 128966.97713521191, 75: 5411676637.963423, 76: 965632232.7109264, 77: 502882762.6146052, 78: 123599997.88779637, 79: 3395099068.012131, 80: 194363113.2540269, 81: 4981650112.221945, 82: 56079527.59856279, 83: 6296748593.609874, 84: 13287949772.883238, 85: 1939569782.1481042, 174: 10704390400.836882, 87: 2025593724.8990107, 89: 1571994329.002197, 90: 672427046.4320791, 91: 855861693.7807493, 92: 4116725320.422514, 93: 4421573919.719064, 94: 549987201.6323802, 95: 317323931679.37085, 96: 69843321911.78914, 97: 37555516.13383407, 98: 216968576.98718086, 99: 848141329.0072956, 100: 26352146205.24577, 101: 2209994729.1863065, 102: 181728730.56756613, 103: 36225979.50740811, 104: 291118433.53450906, 105: 253583734.60407117, 106: 4229480476.2825346, 107: 1023121986.2674646, 108: 1569957408.3802218, 109: 15677364140.46327, 110: 64205430867.6215, 111: 583691517.9390111, 112: 1402132114.9671006, 113: 24193001.111625753, 114: 892778980.1267296, 115: 1126293567.5198963, 116: 5115578297.4389515, 117: 2616041051.368655, 118: 2214293527.1699224, 119: 7001026375.375027, 120: 1870951966.1526742, 121: 5696283542.695061, 122: 19924658071.09158, 123: 7349296996.569937, 124: 38863190500.83943, 125: 7660490390.729252, 127: 3945438450.8800106, 128: 547239401.8188827, 129: 1457902641.081433, 130: 1451340645.7666793, 131: 1871931310.6909547, 133: 2027914965.8901405, 134: 5683731441.757713, 135: 367232507.69245297, 136: 192694712.85175782, 137: 158695091.7623435, 138: 264663170.07253367, 139: 38241143.2689, 140: 782152466.7721765, 141: 828680804.5359981, 142: 659923941.0234187, 143: 10579039.69734243, 144: 726721788.1158653, 145: 1651031.8471574942, 146: 493553.39741548675, 147: 431688827.9508909, 148: 179960259.43664232, 149: 7527023.4334889855, 150: 6478835636.644421, 151: 3739198895.7267113, 152: 34238422849.016323, 153: 12918447770.882305, 154: 1332065449.0450587, 155: 69468204.54177685, 156: 4395198666.308328, 157: 1769186279.4390056, 158: 640659589.0659131, 159: 362389308.12055427, 160: 265911978.70454195, 161: 21127366.47015571, 162: 0.0, 86: 460171565749.35205, 88: 943009192412.8579, 126: 556290895795.3684}\n"
          ]
        },
        {
          "data": {
            "application/vnd.plotly.v1+json": {
              "config": {
                "plotlyServerURL": "https://plot.ly"
              },
              "data": [
                {
                  "link": {
                    "color": [
                      "lightgrey",
                      "lightgrey",
                      "lightgrey",
                      "lightgrey",
                      "lightgrey",
                      "lightgrey",
                      "lightgrey",
                      "lightgrey",
                      "lightgrey",
                      "lightgrey",
                      "lightgrey",
                      "lightgrey",
                      "lightgrey",
                      "lightgrey",
                      "lightgrey",
                      "lightgrey",
                      "lightgrey",
                      "lightgrey",
                      "lightgrey",
                      "lightgrey",
                      "lightgrey",
                      "lightgrey",
                      "lightgrey",
                      "lightgrey",
                      "lightgrey",
                      "lightgrey",
                      "lightgrey",
                      "lightgrey",
                      "lightgrey",
                      "lightgrey",
                      "lightgrey",
                      "lightgrey",
                      "lightgrey",
                      "lightgrey",
                      "lightgrey",
                      "lightgrey",
                      "lightgrey",
                      "lightgrey",
                      "lightgrey",
                      "lightgrey",
                      "lightgrey",
                      "lightgrey",
                      "lightgrey",
                      "lightgrey",
                      "lightgrey"
                    ],
                    "source": [
                      171,
                      132,
                      0,
                      175,
                      8,
                      13,
                      19,
                      20,
                      21,
                      53,
                      55,
                      56,
                      62,
                      63,
                      68,
                      70,
                      71,
                      83,
                      84,
                      174,
                      95,
                      96,
                      100,
                      109,
                      110,
                      119,
                      121,
                      122,
                      123,
                      124,
                      125,
                      134,
                      150,
                      152,
                      153,
                      170,
                      171,
                      86,
                      170,
                      171,
                      88,
                      170,
                      171,
                      126,
                      170
                    ],
                    "target": [
                      132,
                      173,
                      170,
                      170,
                      170,
                      170,
                      170,
                      170,
                      170,
                      170,
                      170,
                      170,
                      170,
                      170,
                      170,
                      170,
                      170,
                      170,
                      170,
                      170,
                      170,
                      170,
                      170,
                      170,
                      170,
                      170,
                      170,
                      170,
                      170,
                      170,
                      170,
                      170,
                      170,
                      170,
                      170,
                      132,
                      86,
                      173,
                      86,
                      88,
                      173,
                      88,
                      126,
                      173,
                      126
                    ],
                    "value": [
                      16508150040.680891,
                      318523263827.9653,
                      10113702136.307693,
                      168696285020.43033,
                      17504698767.79251,
                      10765347686.453676,
                      57061994013.23003,
                      42966459308.44888,
                      17115736360.103397,
                      6542374040.531935,
                      7886469719.875551,
                      21340800879.165916,
                      46494349461.2679,
                      6829636381.849828,
                      31995291661.997192,
                      10870743171.47508,
                      68256439775.68372,
                      6296748593.609874,
                      13287949772.883238,
                      10704390400.836882,
                      317323931679.37085,
                      69843321911.78914,
                      26352146205.24577,
                      15677364140.46327,
                      64205430867.6215,
                      7001026375.375027,
                      5696283542.695061,
                      19924658071.09158,
                      7349296996.569937,
                      38863190500.83943,
                      7660490390.729252,
                      5683731441.757713,
                      6478835636.644421,
                      34238422849.016323,
                      12918447770.882305,
                      302015113787.28436,
                      8148147457.9809675,
                      230085782874.67603,
                      221937635416.69507,
                      42390898553.52815,
                      471504596206.42896,
                      429113697652.9008,
                      37265899222.52882,
                      278145447897.6842,
                      240879548675.1554
                    ]
                  },
                  "node": {
                    "label": [
                      "Cultivation of paddy rice",
                      "Cultivation of wheat",
                      "Cultivation of cereal grains nec",
                      "Cultivation of vegetables, fruit, nuts",
                      "Cultivation of oil seeds",
                      "Cultivation of sugar cane, sugar beet",
                      "Cultivation of plant-based fibers",
                      "Cultivation of crops nec",
                      "Cattle farming",
                      "Pigs farming",
                      "Poultry farming",
                      "Meat animals nec",
                      "Animal products nec",
                      "Raw milk",
                      "Wool, silk-worm cocoons",
                      "Manure treatment (conventional), storage and land application",
                      "Manure treatment (biogas), storage and land application",
                      "Forestry, logging and related service activities (02)",
                      "Fishing, operating of fish hatcheries and fish farms; service activities incidental to fishing (05)",
                      "Mining of coal and lignite; extraction of peat (10)",
                      "Extraction of crude petroleum and services related to crude oil extraction, excluding surveying",
                      "Extraction of natural gas and services related to natural gas extraction, excluding surveying",
                      "Extraction, liquefaction, and regasification of other petroleum and gaseous materials",
                      "Mining of uranium and thorium ores (12)",
                      "Mining of iron ores",
                      "Mining of copper ores and concentrates",
                      "Mining of nickel ores and concentrates",
                      "Mining of aluminium ores and concentrates",
                      "Mining of precious metal ores and concentrates",
                      "Mining of lead, zinc and tin ores and concentrates",
                      "Mining of other non-ferrous metal ores and concentrates",
                      "Quarrying of stone",
                      "Quarrying of sand and clay",
                      "Mining of chemical and fertilizer minerals, production of salt, other mining and quarrying n.e.c.",
                      "Processing of meat cattle",
                      "Processing of meat pigs",
                      "Processing of meat poultry",
                      "Production of meat products nec",
                      "Processing vegetable oils and fats",
                      "Processing of dairy products",
                      "Processed rice",
                      "Sugar refining",
                      "Processing of Food products nec",
                      "Manufacture of beverages",
                      "Manufacture of fish products",
                      "Manufacture of tobacco products (16)",
                      "Manufacture of textiles (17)",
                      "Manufacture of wearing apparel; dressing and dyeing of fur (18)",
                      "Tanning and dressing of leather; manufacture of luggage, handbags, saddlery, harness and footwear (19)",
                      "Manufacture of wood and of products of wood and cork, except furniture; manufacture of articles of straw and plaiting materials (20)",
                      "Re-processing of secondary wood material into new wood material",
                      "Pulp",
                      "Re-processing of secondary paper into new pulp",
                      "Paper",
                      "Publishing, printing and reproduction of recorded media (22)",
                      "Manufacture of coke oven products",
                      "Petroleum Refinery",
                      "Processing of nuclear fuel",
                      "Plastics, basic",
                      "Re-processing of secondary plastic into new plastic",
                      "N-fertiliser",
                      "P- and other fertiliser",
                      "Chemicals nec",
                      "Manufacture of rubber and plastic products (25)",
                      "Manufacture of glass and glass products",
                      "Re-processing of secondary glass into new glass",
                      "Manufacture of ceramic goods",
                      "Manufacture of bricks, tiles and construction products, in baked clay",
                      "Manufacture of cement, lime and plaster",
                      "Re-processing of ash into clinker",
                      "Manufacture of other non-metallic mineral products n.e.c.",
                      "Manufacture of basic iron and steel and of ferro-alloys and first products thereof",
                      "Re-processing of secondary steel into new steel",
                      "Precious metals production",
                      "Re-processing of secondary preciuos metals into new preciuos metals",
                      "Aluminium production",
                      "Re-processing of secondary aluminium into new aluminium",
                      "Lead, zinc and tin production",
                      "Re-processing of secondary lead into new lead, zinc and tin",
                      "Copper production",
                      "Re-processing of secondary copper into new copper",
                      "Other non-ferrous metal production",
                      "Re-processing of secondary other non-ferrous metals into new other non-ferrous metals",
                      "Casting of metals",
                      "Manufacture of fabricated metal products, except machinery and equipment (28)",
                      "Manufacture of machinery and equipment n.e.c. (29)",
                      "Manufacture of office machinery and computers (30)",
                      "Manufacture of electrical machinery and apparatus n.e.c. (31)",
                      "Manufacture of radio, television and communication equipment and apparatus (32)",
                      "Manufacture of medical, precision and optical instruments, watches and clocks (33)",
                      "Manufacture of motor vehicles, trailers and semi-trailers (34)",
                      "Manufacture of other transport equipment (35)",
                      "Manufacture of furniture; manufacturing n.e.c. (36)",
                      "Recycling of waste and scrap",
                      "Recycling of bottles by direct reuse",
                      "Production of electricity by coal",
                      "Production of electricity by gas",
                      "Production of electricity by nuclear",
                      "Production of electricity by hydro",
                      "Production of electricity by wind",
                      "Production of electricity by petroleum and other oil derivatives",
                      "Production of electricity by biomass and waste",
                      "Production of electricity by solar photovoltaic",
                      "Production of electricity by solar thermal",
                      "Production of electricity by tide, wave, ocean",
                      "Production of electricity by Geothermal",
                      "Production of electricity nec",
                      "Transmission of electricity",
                      "Distribution and trade of electricity",
                      "Manufacture of gas; distribution of gaseous fuels through mains",
                      "Steam and hot water supply",
                      "Collection, purification and distribution of water (41)",
                      "Construction (45)",
                      "Re-processing of secondary construction material into aggregates",
                      "Sale, maintenance, repair of motor vehicles, motor vehicles parts, motorcycles, motor cycles parts and accessoiries",
                      "Retail sale of automotive fuel",
                      "Wholesale trade and commission trade, except of motor vehicles and motorcycles (51)",
                      "Retail trade, except of motor vehicles and motorcycles; repair of personal and household goods (52)",
                      "Hotels and restaurants (55)",
                      "Transport via railways",
                      "Other land transport",
                      "Transport via pipelines",
                      "Sea and coastal water transport",
                      "Inland water transport",
                      "Air transport (62)",
                      "Supporting and auxiliary transport activities; activities of travel agencies (63)",
                      "Post and telecommunications (64)",
                      "Financial intermediation, except insurance and pension funding (65)",
                      "Insurance and pension funding, except compulsory social security (66)",
                      "Activities auxiliary to financial intermediation (67)",
                      "Real estate activities (70)",
                      "Renting of machinery and equipment without operator and of personal and household goods (71)",
                      "Computer and related activities (72)",
                      "Research and development (73)",
                      "Other business activities (74)",
                      "Public administration and defence; compulsory social security (75)",
                      "Education (80)",
                      "Health and social work (85)",
                      "Incineration of waste: Food",
                      "Incineration of waste: Paper",
                      "Incineration of waste: Plastic",
                      "Incineration of waste: Metals and Inert materials",
                      "Incineration of waste: Textiles",
                      "Incineration of waste: Wood",
                      "Incineration of waste: Oil/Hazardous waste",
                      "Biogasification of food waste, incl. land application",
                      "Biogasification of paper, incl. land application",
                      "Biogasification of sewage slugde, incl. land application",
                      "Composting of food waste, incl. land application",
                      "Composting of paper and wood, incl. land application",
                      "Waste water treatment, food",
                      "Waste water treatment, other",
                      "Landfill of waste: Food",
                      "Landfill of waste: Paper",
                      "Landfill of waste: Plastic",
                      "Landfill of waste: Inert/metal/hazardous",
                      "Landfill of waste: Textiles",
                      "Landfill of waste: Wood",
                      "Activities of membership organisation n.e.c. (91)",
                      "Recreational, cultural and sporting activities (92)",
                      "Other service activities (93)",
                      "Private households with employed persons (95)",
                      "Extra-territorial organizations and bodies",
                      "Final consumption expenditure by households",
                      "Final consumption expenditure by non-profit organisations serving households (NPISH)",
                      "Final consumption expenditure by government",
                      "Gross fixed capital formation",
                      "Changes in inventories",
                      "Changes in valuables",
                      "Exports: Total (fob)",
                      "Upstream",
                      "Direct",
                      "Downstream",
                      "Total",
                      "Direct up",
                      "Others"
                    ]
                  },
                  "type": "sankey"
                }
              ],
              "layout": {
                "font": {
                  "size": 10
                },
                "height": 400,
                "plot_bgcolor": "rgba(0,0,0,0)",
                "template": {
                  "data": {
                    "bar": [
                      {
                        "error_x": {
                          "color": "#2a3f5f"
                        },
                        "error_y": {
                          "color": "#2a3f5f"
                        },
                        "marker": {
                          "line": {
                            "color": "#E5ECF6",
                            "width": 0.5
                          },
                          "pattern": {
                            "fillmode": "overlay",
                            "size": 10,
                            "solidity": 0.2
                          }
                        },
                        "type": "bar"
                      }
                    ],
                    "barpolar": [
                      {
                        "marker": {
                          "line": {
                            "color": "#E5ECF6",
                            "width": 0.5
                          },
                          "pattern": {
                            "fillmode": "overlay",
                            "size": 10,
                            "solidity": 0.2
                          }
                        },
                        "type": "barpolar"
                      }
                    ],
                    "carpet": [
                      {
                        "aaxis": {
                          "endlinecolor": "#2a3f5f",
                          "gridcolor": "white",
                          "linecolor": "white",
                          "minorgridcolor": "white",
                          "startlinecolor": "#2a3f5f"
                        },
                        "baxis": {
                          "endlinecolor": "#2a3f5f",
                          "gridcolor": "white",
                          "linecolor": "white",
                          "minorgridcolor": "white",
                          "startlinecolor": "#2a3f5f"
                        },
                        "type": "carpet"
                      }
                    ],
                    "choropleth": [
                      {
                        "colorbar": {
                          "outlinewidth": 0,
                          "ticks": ""
                        },
                        "type": "choropleth"
                      }
                    ],
                    "contour": [
                      {
                        "colorbar": {
                          "outlinewidth": 0,
                          "ticks": ""
                        },
                        "colorscale": [
                          [
                            0,
                            "#0d0887"
                          ],
                          [
                            0.1111111111111111,
                            "#46039f"
                          ],
                          [
                            0.2222222222222222,
                            "#7201a8"
                          ],
                          [
                            0.3333333333333333,
                            "#9c179e"
                          ],
                          [
                            0.4444444444444444,
                            "#bd3786"
                          ],
                          [
                            0.5555555555555556,
                            "#d8576b"
                          ],
                          [
                            0.6666666666666666,
                            "#ed7953"
                          ],
                          [
                            0.7777777777777778,
                            "#fb9f3a"
                          ],
                          [
                            0.8888888888888888,
                            "#fdca26"
                          ],
                          [
                            1,
                            "#f0f921"
                          ]
                        ],
                        "type": "contour"
                      }
                    ],
                    "contourcarpet": [
                      {
                        "colorbar": {
                          "outlinewidth": 0,
                          "ticks": ""
                        },
                        "type": "contourcarpet"
                      }
                    ],
                    "heatmap": [
                      {
                        "colorbar": {
                          "outlinewidth": 0,
                          "ticks": ""
                        },
                        "colorscale": [
                          [
                            0,
                            "#0d0887"
                          ],
                          [
                            0.1111111111111111,
                            "#46039f"
                          ],
                          [
                            0.2222222222222222,
                            "#7201a8"
                          ],
                          [
                            0.3333333333333333,
                            "#9c179e"
                          ],
                          [
                            0.4444444444444444,
                            "#bd3786"
                          ],
                          [
                            0.5555555555555556,
                            "#d8576b"
                          ],
                          [
                            0.6666666666666666,
                            "#ed7953"
                          ],
                          [
                            0.7777777777777778,
                            "#fb9f3a"
                          ],
                          [
                            0.8888888888888888,
                            "#fdca26"
                          ],
                          [
                            1,
                            "#f0f921"
                          ]
                        ],
                        "type": "heatmap"
                      }
                    ],
                    "heatmapgl": [
                      {
                        "colorbar": {
                          "outlinewidth": 0,
                          "ticks": ""
                        },
                        "colorscale": [
                          [
                            0,
                            "#0d0887"
                          ],
                          [
                            0.1111111111111111,
                            "#46039f"
                          ],
                          [
                            0.2222222222222222,
                            "#7201a8"
                          ],
                          [
                            0.3333333333333333,
                            "#9c179e"
                          ],
                          [
                            0.4444444444444444,
                            "#bd3786"
                          ],
                          [
                            0.5555555555555556,
                            "#d8576b"
                          ],
                          [
                            0.6666666666666666,
                            "#ed7953"
                          ],
                          [
                            0.7777777777777778,
                            "#fb9f3a"
                          ],
                          [
                            0.8888888888888888,
                            "#fdca26"
                          ],
                          [
                            1,
                            "#f0f921"
                          ]
                        ],
                        "type": "heatmapgl"
                      }
                    ],
                    "histogram": [
                      {
                        "marker": {
                          "pattern": {
                            "fillmode": "overlay",
                            "size": 10,
                            "solidity": 0.2
                          }
                        },
                        "type": "histogram"
                      }
                    ],
                    "histogram2d": [
                      {
                        "colorbar": {
                          "outlinewidth": 0,
                          "ticks": ""
                        },
                        "colorscale": [
                          [
                            0,
                            "#0d0887"
                          ],
                          [
                            0.1111111111111111,
                            "#46039f"
                          ],
                          [
                            0.2222222222222222,
                            "#7201a8"
                          ],
                          [
                            0.3333333333333333,
                            "#9c179e"
                          ],
                          [
                            0.4444444444444444,
                            "#bd3786"
                          ],
                          [
                            0.5555555555555556,
                            "#d8576b"
                          ],
                          [
                            0.6666666666666666,
                            "#ed7953"
                          ],
                          [
                            0.7777777777777778,
                            "#fb9f3a"
                          ],
                          [
                            0.8888888888888888,
                            "#fdca26"
                          ],
                          [
                            1,
                            "#f0f921"
                          ]
                        ],
                        "type": "histogram2d"
                      }
                    ],
                    "histogram2dcontour": [
                      {
                        "colorbar": {
                          "outlinewidth": 0,
                          "ticks": ""
                        },
                        "colorscale": [
                          [
                            0,
                            "#0d0887"
                          ],
                          [
                            0.1111111111111111,
                            "#46039f"
                          ],
                          [
                            0.2222222222222222,
                            "#7201a8"
                          ],
                          [
                            0.3333333333333333,
                            "#9c179e"
                          ],
                          [
                            0.4444444444444444,
                            "#bd3786"
                          ],
                          [
                            0.5555555555555556,
                            "#d8576b"
                          ],
                          [
                            0.6666666666666666,
                            "#ed7953"
                          ],
                          [
                            0.7777777777777778,
                            "#fb9f3a"
                          ],
                          [
                            0.8888888888888888,
                            "#fdca26"
                          ],
                          [
                            1,
                            "#f0f921"
                          ]
                        ],
                        "type": "histogram2dcontour"
                      }
                    ],
                    "mesh3d": [
                      {
                        "colorbar": {
                          "outlinewidth": 0,
                          "ticks": ""
                        },
                        "type": "mesh3d"
                      }
                    ],
                    "parcoords": [
                      {
                        "line": {
                          "colorbar": {
                            "outlinewidth": 0,
                            "ticks": ""
                          }
                        },
                        "type": "parcoords"
                      }
                    ],
                    "pie": [
                      {
                        "automargin": true,
                        "type": "pie"
                      }
                    ],
                    "scatter": [
                      {
                        "fillpattern": {
                          "fillmode": "overlay",
                          "size": 10,
                          "solidity": 0.2
                        },
                        "type": "scatter"
                      }
                    ],
                    "scatter3d": [
                      {
                        "line": {
                          "colorbar": {
                            "outlinewidth": 0,
                            "ticks": ""
                          }
                        },
                        "marker": {
                          "colorbar": {
                            "outlinewidth": 0,
                            "ticks": ""
                          }
                        },
                        "type": "scatter3d"
                      }
                    ],
                    "scattercarpet": [
                      {
                        "marker": {
                          "colorbar": {
                            "outlinewidth": 0,
                            "ticks": ""
                          }
                        },
                        "type": "scattercarpet"
                      }
                    ],
                    "scattergeo": [
                      {
                        "marker": {
                          "colorbar": {
                            "outlinewidth": 0,
                            "ticks": ""
                          }
                        },
                        "type": "scattergeo"
                      }
                    ],
                    "scattergl": [
                      {
                        "marker": {
                          "colorbar": {
                            "outlinewidth": 0,
                            "ticks": ""
                          }
                        },
                        "type": "scattergl"
                      }
                    ],
                    "scattermapbox": [
                      {
                        "marker": {
                          "colorbar": {
                            "outlinewidth": 0,
                            "ticks": ""
                          }
                        },
                        "type": "scattermapbox"
                      }
                    ],
                    "scatterpolar": [
                      {
                        "marker": {
                          "colorbar": {
                            "outlinewidth": 0,
                            "ticks": ""
                          }
                        },
                        "type": "scatterpolar"
                      }
                    ],
                    "scatterpolargl": [
                      {
                        "marker": {
                          "colorbar": {
                            "outlinewidth": 0,
                            "ticks": ""
                          }
                        },
                        "type": "scatterpolargl"
                      }
                    ],
                    "scatterternary": [
                      {
                        "marker": {
                          "colorbar": {
                            "outlinewidth": 0,
                            "ticks": ""
                          }
                        },
                        "type": "scatterternary"
                      }
                    ],
                    "surface": [
                      {
                        "colorbar": {
                          "outlinewidth": 0,
                          "ticks": ""
                        },
                        "colorscale": [
                          [
                            0,
                            "#0d0887"
                          ],
                          [
                            0.1111111111111111,
                            "#46039f"
                          ],
                          [
                            0.2222222222222222,
                            "#7201a8"
                          ],
                          [
                            0.3333333333333333,
                            "#9c179e"
                          ],
                          [
                            0.4444444444444444,
                            "#bd3786"
                          ],
                          [
                            0.5555555555555556,
                            "#d8576b"
                          ],
                          [
                            0.6666666666666666,
                            "#ed7953"
                          ],
                          [
                            0.7777777777777778,
                            "#fb9f3a"
                          ],
                          [
                            0.8888888888888888,
                            "#fdca26"
                          ],
                          [
                            1,
                            "#f0f921"
                          ]
                        ],
                        "type": "surface"
                      }
                    ],
                    "table": [
                      {
                        "cells": {
                          "fill": {
                            "color": "#EBF0F8"
                          },
                          "line": {
                            "color": "white"
                          }
                        },
                        "header": {
                          "fill": {
                            "color": "#C8D4E3"
                          },
                          "line": {
                            "color": "white"
                          }
                        },
                        "type": "table"
                      }
                    ]
                  },
                  "layout": {
                    "annotationdefaults": {
                      "arrowcolor": "#2a3f5f",
                      "arrowhead": 0,
                      "arrowwidth": 1
                    },
                    "autotypenumbers": "strict",
                    "coloraxis": {
                      "colorbar": {
                        "outlinewidth": 0,
                        "ticks": ""
                      }
                    },
                    "colorscale": {
                      "diverging": [
                        [
                          0,
                          "#8e0152"
                        ],
                        [
                          0.1,
                          "#c51b7d"
                        ],
                        [
                          0.2,
                          "#de77ae"
                        ],
                        [
                          0.3,
                          "#f1b6da"
                        ],
                        [
                          0.4,
                          "#fde0ef"
                        ],
                        [
                          0.5,
                          "#f7f7f7"
                        ],
                        [
                          0.6,
                          "#e6f5d0"
                        ],
                        [
                          0.7,
                          "#b8e186"
                        ],
                        [
                          0.8,
                          "#7fbc41"
                        ],
                        [
                          0.9,
                          "#4d9221"
                        ],
                        [
                          1,
                          "#276419"
                        ]
                      ],
                      "sequential": [
                        [
                          0,
                          "#0d0887"
                        ],
                        [
                          0.1111111111111111,
                          "#46039f"
                        ],
                        [
                          0.2222222222222222,
                          "#7201a8"
                        ],
                        [
                          0.3333333333333333,
                          "#9c179e"
                        ],
                        [
                          0.4444444444444444,
                          "#bd3786"
                        ],
                        [
                          0.5555555555555556,
                          "#d8576b"
                        ],
                        [
                          0.6666666666666666,
                          "#ed7953"
                        ],
                        [
                          0.7777777777777778,
                          "#fb9f3a"
                        ],
                        [
                          0.8888888888888888,
                          "#fdca26"
                        ],
                        [
                          1,
                          "#f0f921"
                        ]
                      ],
                      "sequentialminus": [
                        [
                          0,
                          "#0d0887"
                        ],
                        [
                          0.1111111111111111,
                          "#46039f"
                        ],
                        [
                          0.2222222222222222,
                          "#7201a8"
                        ],
                        [
                          0.3333333333333333,
                          "#9c179e"
                        ],
                        [
                          0.4444444444444444,
                          "#bd3786"
                        ],
                        [
                          0.5555555555555556,
                          "#d8576b"
                        ],
                        [
                          0.6666666666666666,
                          "#ed7953"
                        ],
                        [
                          0.7777777777777778,
                          "#fb9f3a"
                        ],
                        [
                          0.8888888888888888,
                          "#fdca26"
                        ],
                        [
                          1,
                          "#f0f921"
                        ]
                      ]
                    },
                    "colorway": [
                      "#636efa",
                      "#EF553B",
                      "#00cc96",
                      "#ab63fa",
                      "#FFA15A",
                      "#19d3f3",
                      "#FF6692",
                      "#B6E880",
                      "#FF97FF",
                      "#FECB52"
                    ],
                    "font": {
                      "color": "#2a3f5f"
                    },
                    "geo": {
                      "bgcolor": "white",
                      "lakecolor": "white",
                      "landcolor": "#E5ECF6",
                      "showlakes": true,
                      "showland": true,
                      "subunitcolor": "white"
                    },
                    "hoverlabel": {
                      "align": "left"
                    },
                    "hovermode": "closest",
                    "mapbox": {
                      "style": "light"
                    },
                    "paper_bgcolor": "white",
                    "plot_bgcolor": "#E5ECF6",
                    "polar": {
                      "angularaxis": {
                        "gridcolor": "white",
                        "linecolor": "white",
                        "ticks": ""
                      },
                      "bgcolor": "#E5ECF6",
                      "radialaxis": {
                        "gridcolor": "white",
                        "linecolor": "white",
                        "ticks": ""
                      }
                    },
                    "scene": {
                      "xaxis": {
                        "backgroundcolor": "#E5ECF6",
                        "gridcolor": "white",
                        "gridwidth": 2,
                        "linecolor": "white",
                        "showbackground": true,
                        "ticks": "",
                        "zerolinecolor": "white"
                      },
                      "yaxis": {
                        "backgroundcolor": "#E5ECF6",
                        "gridcolor": "white",
                        "gridwidth": 2,
                        "linecolor": "white",
                        "showbackground": true,
                        "ticks": "",
                        "zerolinecolor": "white"
                      },
                      "zaxis": {
                        "backgroundcolor": "#E5ECF6",
                        "gridcolor": "white",
                        "gridwidth": 2,
                        "linecolor": "white",
                        "showbackground": true,
                        "ticks": "",
                        "zerolinecolor": "white"
                      }
                    },
                    "shapedefaults": {
                      "line": {
                        "color": "#2a3f5f"
                      }
                    },
                    "ternary": {
                      "aaxis": {
                        "gridcolor": "white",
                        "linecolor": "white",
                        "ticks": ""
                      },
                      "baxis": {
                        "gridcolor": "white",
                        "linecolor": "white",
                        "ticks": ""
                      },
                      "bgcolor": "#E5ECF6",
                      "caxis": {
                        "gridcolor": "white",
                        "linecolor": "white",
                        "ticks": ""
                      }
                    },
                    "title": {
                      "x": 0.05
                    },
                    "xaxis": {
                      "automargin": true,
                      "gridcolor": "white",
                      "linecolor": "white",
                      "ticks": "",
                      "title": {
                        "standoff": 15
                      },
                      "zerolinecolor": "white",
                      "zerolinewidth": 2
                    },
                    "yaxis": {
                      "automargin": true,
                      "gridcolor": "white",
                      "linecolor": "white",
                      "ticks": "",
                      "title": {
                        "standoff": 15
                      },
                      "zerolinecolor": "white",
                      "zerolinewidth": 2
                    }
                  }
                },
                "title": {
                  "text": ""
                },
                "width": 800,
                "xaxis": {
                  "showgrid": false,
                  "visible": false,
                  "zeroline": false
                },
                "yaxis": {
                  "showgrid": false,
                  "visible": false,
                  "zeroline": false
                }
              }
            }
          },
          "metadata": {},
          "output_type": "display_data"
        }
      ],
      "source": [
        "# For each ICT industry, we assess its upstream footprint\n",
        "# If upstream is one of the other industries, we do not consider it\n",
        "# If upstream is itself, it is direct\n",
        "\n",
        "upstream_color = \"red\"\n",
        "downstream_color = \"blue\"\n",
        "direct_color = \"black\"\n",
        "\n",
        "for exio in [exio_simplified, exio_normal]:\n",
        "    labels = list(get_all_industries(exio) + get_demand_categories(exio))\n",
        "    labels.append(\"Upstream\")\n",
        "    labels.append(\"Direct\")\n",
        "    labels.append(\"Downstream\")\n",
        "    labels.append(\"Total\")\n",
        "    labels.append(\"Direct up\")\n",
        "\n",
        "    sources = []\n",
        "    targets = []\n",
        "    values = []\n",
        "    colors = []\n",
        "\n",
        "    total_upstream = 0\n",
        "\n",
        "    for industry in ict_industries:\n",
        "        sum_y = exio.Y.sum(axis=1)\n",
        "        S = exio.impacts.S[(\"global\", industry)][COE2_NAME]\n",
        "\n",
        "        direct = (\n",
        "            exio.L[(\"global\", industry)][(\"global\", industry)]\n",
        "            * sum_y[(\"global\", industry)]\n",
        "            * S\n",
        "        )\n",
        "\n",
        "        sources.append(labels.index(\"Direct\"))\n",
        "        targets.append(labels.index(industry))\n",
        "        values.append(direct)\n",
        "        colors.append(direct_color)\n",
        "\n",
        "        sources.append(labels.index(industry))\n",
        "        targets.append(labels.index(\"Total\"))\n",
        "        values.append(direct)\n",
        "        colors.append(direct_color)\n",
        "\n",
        "        upstream = 0\n",
        "        for supplier in get_all_industries(exio):\n",
        "            if supplier != industry:\n",
        "\n",
        "                value = (\n",
        "                    exio.L[(\"global\", industry)][(\"global\", supplier)]\n",
        "                    * sum_y[(\"global\", industry)]\n",
        "                    * exio.impacts.S[(\"global\", supplier)][COE2_NAME]\n",
        "                )\n",
        "\n",
        "                if supplier not in ict_industries:\n",
        "                    sources.append(labels.index(supplier))\n",
        "                    targets.append(labels.index(\"Upstream\"))\n",
        "                    values.append(value)\n",
        "                    colors.append(upstream_color)\n",
        "                else:\n",
        "                    sources.append(labels.index(\"Direct up\"))\n",
        "                    targets.append(labels.index(\"Upstream\"))\n",
        "                    values.append(value)\n",
        "                    colors.append(upstream_color)\n",
        "                upstream += value\n",
        "\n",
        "        sources.append(labels.index(\"Upstream\"))\n",
        "        targets.append(labels.index(industry))\n",
        "        values.append(upstream)\n",
        "        colors.append(upstream_color)\n",
        "\n",
        "        sources.append(labels.index(industry))\n",
        "        targets.append(labels.index(\"Total\"))\n",
        "        values.append(upstream)\n",
        "        colors.append(upstream_color)\n",
        "\n",
        "        print(\"---\" + industry + \"---\")\n",
        "        print(\"Upstream: \" + str(upstream))\n",
        "        print(\"Direct: \" + str(direct))\n",
        "        print(\"CBA: \" + str(direct + upstream))\n",
        "        print(\"CBA: \" + str(get_cba_impact(exio, industry)) + \" expected\")\n",
        "        print(\"Diff due to not double counting\")\n",
        "        print()\n",
        "        total_upstream += upstream\n",
        "\n",
        "    print(\"---Total---\")\n",
        "    print(\"Upstream: \" + str(kg_to_Gt(total_upstream)))\n",
        "\n",
        "    if exio == exio_simplified:\n",
        "        plot_sankey(\n",
        "            sources=sources,\n",
        "            targets=targets,\n",
        "            values=values,\n",
        "            labels=labels,\n",
        "            # colors=colors,\n",
        "            regroup_small_nodes=True,\n",
        "            regroup_threshold=55000000000 if exio == exio_simplified else 5500000000,\n",
        "            width=10,\n",
        "            height=5,\n",
        "            title=\"\",  # \"ICT GHG emissions sources (2015)\",\n",
        "        ).write_image(\"figures/upstream_carbon.pdf\")\n",
        "        plot_sankey(\n",
        "            sources=sources,\n",
        "            targets=targets,\n",
        "            values=values,\n",
        "            labels=labels,\n",
        "            # colors=colors,\n",
        "            regroup_small_nodes=True,\n",
        "            regroup_threshold=55000000000 if exio == exio_simplified else 5500000000,\n",
        "            width=10,\n",
        "            height=5,\n",
        "            title=\"\",  # \"ICT GHG emissions sources (2015)\",\n",
        "        ).show()\n",
        "    else:\n",
        "        plot_sankey(\n",
        "            sources=sources,\n",
        "            targets=targets,\n",
        "            values=values,\n",
        "            labels=labels,\n",
        "            # colors=colors,\n",
        "            regroup_small_nodes=True,\n",
        "            regroup_threshold=5500000000,\n",
        "            width=10,\n",
        "            height=5,\n",
        "            title=\"\",  # \"ICT GHG emissions sources (2015)\",\n",
        "        ).show()  # .write_image(\"figures/greendays/impact_sources.svg\")\n",
        "\n",
        "    # print(upstream + direct, upstream, direct)\n",
        "    # print(compute_udd_impact(exio, industry))"
      ]
    }
  ],
  "metadata": {
    "kernelspec": {
      "display_name": "venv",
      "language": "python",
      "name": "python3"
    },
    "language_info": {
      "codemirror_mode": {
        "name": "ipython",
        "version": 3
      },
      "file_extension": ".py",
      "mimetype": "text/x-python",
      "name": "python",
      "nbconvert_exporter": "python",
      "pygments_lexer": "ipython3",
      "version": "3.9.6"
    }
  },
  "nbformat": 4,
  "nbformat_minor": 2
}
